{
 "cells": [
  {
   "cell_type": "code",
   "execution_count": 16,
   "metadata": {},
   "outputs": [],
   "source": [
    "import cv2\n",
    "import glob\n",
    "import os\n",
    "import json"
   ]
  },
  {
   "cell_type": "markdown",
   "metadata": {},
   "source": [
    "分别读取jpg文件和json文件.同意裁剪jpg图片的 x 800 y 100  w 453  h 346 区域\n",
    "with open('GWConfig.txt', 'r', encoding='utf-8') as f:\n",
    "    ret_dic = json.load(f)\n",
    "with open('GWConfig2.txt', 'w', encoding='utf-8') as f:\n",
    "    json.dump(ret_dic, f, ensure_ascii=False, indent=4)\n"
   ]
  },
  {
   "cell_type": "code",
   "execution_count": 42,
   "metadata": {},
   "outputs": [
    {
     "name": "stdout",
     "output_type": "stream",
     "text": [
      "文件夹已存在\n",
      "\n"
     ]
    }
   ],
   "source": [
    "src_dir='./copy_for_ocr'\n",
    "dst_dir='./dst_change_dir'\n",
    "if os.path.isdir(dst_dir):\n",
    "    print('文件夹已存在\\n')\n",
    "    pass\n",
    "else:\n",
    "    os.mkdir(dst_dir)\n",
    "\n",
    "\n",
    "jpg_file= glob.glob(src_dir+'/*.jpg')\n",
    "json_file= glob.glob(src_dir+'/*.json')\n",
    "\n",
    "for var_jpg in jpg_file:\n",
    "    src=cv2.imread(var_jpg)\n",
    "    dst_img=src[100:446,800:1253]\n",
    "    dst_name=os.path.basename(var_jpg)\n",
    "    dst_name=dst_dir+'/'+dst_name\n",
    "    cv2.imwrite(dst_name,dst_img)\n",
    "    pass\n",
    "\n",
    "for var_json in json_file:\n",
    "    with open(var_json, 'r', encoding='utf-8') as f:\n",
    "        ret_dic = json.load(f)\n",
    "        json_shapes=ret_dic['shapes']\n",
    "        ret_dic['imageData'] = None\n",
    "        ret_dic['imageHeight']=346\n",
    "        ret_dic['imageWidth']=453\n",
    "\n",
    "        for jsn_shap in json_shapes:\n",
    "            jsn_shap['points'][0][0]=jsn_shap['points'][0][0]-800\n",
    "            jsn_shap['points'][0][1]=jsn_shap['points'][0][1]-100\n",
    "            jsn_shap['points'][1][0]=jsn_shap['points'][1][0]-800\n",
    "            jsn_shap['points'][1][1]=jsn_shap['points'][1][1]-100\n",
    "    dst_name=os.path.basename(var_json)\n",
    "    dst_name=dst_dir+'/'+dst_name\n",
    "    with open(dst_name, 'w', encoding='utf-8') as f:\n",
    "        json.dump(ret_dic, f, ensure_ascii=False, indent=4)\n",
    "\n",
    "    pass"
   ]
  },
  {
   "cell_type": "code",
   "execution_count": 40,
   "metadata": {},
   "outputs": [
    {
     "data": {
      "text/plain": [
       "6220800"
      ]
     },
     "execution_count": 40,
     "metadata": {},
     "output_type": "execute_result"
    }
   ],
   "source": [
    "src.size"
   ]
  },
  {
   "cell_type": "code",
   "execution_count": null,
   "metadata": {},
   "outputs": [],
   "source": []
  }
 ],
 "metadata": {
  "interpreter": {
   "hash": "f1465b5b938b251405d3bb0233dae1311ea788e6a38b19556ea3d80fb10e94b4"
  },
  "kernelspec": {
   "display_name": "Python 3.9.7 ('base')",
   "language": "python",
   "name": "python3"
  },
  "language_info": {
   "codemirror_mode": {
    "name": "ipython",
    "version": 3
   },
   "file_extension": ".py",
   "mimetype": "text/x-python",
   "name": "python",
   "nbconvert_exporter": "python",
   "pygments_lexer": "ipython3",
   "version": "3.9.7"
  },
  "orig_nbformat": 4
 },
 "nbformat": 4,
 "nbformat_minor": 2
}
